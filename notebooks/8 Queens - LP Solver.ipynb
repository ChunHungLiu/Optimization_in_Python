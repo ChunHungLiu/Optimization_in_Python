{
 "cells": [
  {
   "cell_type": "code",
   "execution_count": 341,
   "metadata": {
    "collapsed": true
   },
   "outputs": [],
   "source": [
    "import numpy as np"
   ]
  },
  {
   "cell_type": "code",
   "execution_count": 353,
   "metadata": {
    "collapsed": false
   },
   "outputs": [],
   "source": [
    "\"\"\"\n",
    "The Sudoku Problem Formulation for the PuLP Modeller\n",
    "\n",
    "Authors: Antony Phillips, Dr Stuart Mitcehll\n",
    "\"\"\"\n",
    "\n",
    "# Import PuLP modeler functions\n",
    "from pulp import *\n",
    "\n",
    "# A list of strings from \"1\" to \"9\" is created\n",
    "Sequence = [\"1\", \"2\", \"3\", \"4\", \"5\", \"6\", \"7\", \"8\"]\n",
    "\n",
    "# The Vals, Rows and Cols sequences all follow this form\n",
    "Vals = Sequence\n",
    "Rows = Sequence\n",
    "Cols = Sequence\n",
    "\n",
    "# The boxes list is created, with the row and column index of each square in each box\n",
    "Boxes =[]\n",
    "for i in range(8):\n",
    "    Boxes += [[(Rows[i],Cols[j]) for j in range(8)]]\n"
   ]
  },
  {
   "cell_type": "code",
   "execution_count": 354,
   "metadata": {
    "collapsed": false,
    "scrolled": true
   },
   "outputs": [
    {
     "data": {
      "text/plain": [
       "[[('1', '1'),\n",
       "  ('1', '2'),\n",
       "  ('1', '3'),\n",
       "  ('1', '4'),\n",
       "  ('1', '5'),\n",
       "  ('1', '6'),\n",
       "  ('1', '7'),\n",
       "  ('1', '8')],\n",
       " [('2', '1'),\n",
       "  ('2', '2'),\n",
       "  ('2', '3'),\n",
       "  ('2', '4'),\n",
       "  ('2', '5'),\n",
       "  ('2', '6'),\n",
       "  ('2', '7'),\n",
       "  ('2', '8')],\n",
       " [('3', '1'),\n",
       "  ('3', '2'),\n",
       "  ('3', '3'),\n",
       "  ('3', '4'),\n",
       "  ('3', '5'),\n",
       "  ('3', '6'),\n",
       "  ('3', '7'),\n",
       "  ('3', '8')],\n",
       " [('4', '1'),\n",
       "  ('4', '2'),\n",
       "  ('4', '3'),\n",
       "  ('4', '4'),\n",
       "  ('4', '5'),\n",
       "  ('4', '6'),\n",
       "  ('4', '7'),\n",
       "  ('4', '8')],\n",
       " [('5', '1'),\n",
       "  ('5', '2'),\n",
       "  ('5', '3'),\n",
       "  ('5', '4'),\n",
       "  ('5', '5'),\n",
       "  ('5', '6'),\n",
       "  ('5', '7'),\n",
       "  ('5', '8')],\n",
       " [('6', '1'),\n",
       "  ('6', '2'),\n",
       "  ('6', '3'),\n",
       "  ('6', '4'),\n",
       "  ('6', '5'),\n",
       "  ('6', '6'),\n",
       "  ('6', '7'),\n",
       "  ('6', '8')],\n",
       " [('7', '1'),\n",
       "  ('7', '2'),\n",
       "  ('7', '3'),\n",
       "  ('7', '4'),\n",
       "  ('7', '5'),\n",
       "  ('7', '6'),\n",
       "  ('7', '7'),\n",
       "  ('7', '8')],\n",
       " [('8', '1'),\n",
       "  ('8', '2'),\n",
       "  ('8', '3'),\n",
       "  ('8', '4'),\n",
       "  ('8', '5'),\n",
       "  ('8', '6'),\n",
       "  ('8', '7'),\n",
       "  ('8', '8')]]"
      ]
     },
     "execution_count": 354,
     "metadata": {},
     "output_type": "execute_result"
    }
   ],
   "source": [
    "Boxes"
   ]
  },
  {
   "cell_type": "code",
   "execution_count": 355,
   "metadata": {
    "collapsed": true
   },
   "outputs": [],
   "source": [
    "# The prob variable is created to contain the problem data        \n",
    "prob = LpProblem(\"8 Queens Problem\",LpMinimize)"
   ]
  },
  {
   "cell_type": "code",
   "execution_count": 356,
   "metadata": {
    "collapsed": true
   },
   "outputs": [],
   "source": [
    "# The problem variables are created\n",
    "choices = LpVariable.dicts(\"Choice\",(Vals,Rows,Cols),0,1,LpInteger)"
   ]
  },
  {
   "cell_type": "code",
   "execution_count": 357,
   "metadata": {
    "collapsed": true
   },
   "outputs": [],
   "source": [
    "# The arbitrary objective function is added\n",
    "prob += 0, \"Arbitrary Objective Function\""
   ]
  },
  {
   "cell_type": "code",
   "execution_count": 358,
   "metadata": {
    "collapsed": false
   },
   "outputs": [],
   "source": [
    "# A constraint ensuring that only one value can be in each square is created\n",
    "# dont need this\n",
    "#\n",
    "#for r in Rows:\n",
    "#    for c in Cols:\n",
    "#        prob += lpSum([choices[v][r][c] for v in Vals]) == 1, \"\"\n",
    "#\n"
   ]
  },
  {
   "cell_type": "code",
   "execution_count": 359,
   "metadata": {
    "collapsed": true
   },
   "outputs": [],
   "source": [
    "\"\"\"\n",
    "Return all diagonal boxes, given a square\n",
    "\"\"\"\n",
    "def getCombo(r,c):\n",
    "    r = int(r)\n",
    "    c = int(c)\n",
    "    \n",
    "    l = []\n",
    "    l.append((str(r), str(c)))\n",
    "    \n",
    "    mid_r = r\n",
    "    mid_c = c\n",
    "    while r+1 < 9 and c+1 < 9:\n",
    "        l.append((str(r+1), str(c+1)))\n",
    "        r += 1\n",
    "        c += 1\n",
    "        \n",
    "    r = mid_r\n",
    "    c = mid_c\n",
    "    while r-1 > 0 and c-1 > 0:\n",
    "        l.append((str(r-1), str(c-1)))\n",
    "        r -= 1\n",
    "        c -= 1\n",
    "        \n",
    "    return l"
   ]
  },
  {
   "cell_type": "code",
   "execution_count": 360,
   "metadata": {
    "collapsed": false,
    "scrolled": true
   },
   "outputs": [],
   "source": [
    "# The row, column and box constraints are added for each value\n",
    "for v in Vals:\n",
    "    for r in Rows:\n",
    "        prob += lpSum([choices[v][r][c] for c in Cols]) == 1,\"\"\n",
    "        \n",
    "#    for c in Cols:\n",
    "#        prob += lpSum([choices[v][r][c] for r in Rows]) == 1,\"\"\n",
    "\n",
    "    for r in Rows:\n",
    "        for c in Cols:\n",
    "            prob += lpSum([choices[v][i][j]] for i,j in getCombo(r,c)) == 1,\"\""
   ]
  },
  {
   "cell_type": "code",
   "execution_count": 361,
   "metadata": {
    "collapsed": false
   },
   "outputs": [
    {
     "name": "stdout",
     "output_type": "stream",
     "text": [
      "4 1\n",
      "5 2\n",
      "6 3\n",
      "7 4\n",
      "8 5\n"
     ]
    }
   ],
   "source": [
    "for i,j in getCombo(4,1):\n",
    "    print i,j"
   ]
  },
  {
   "cell_type": "code",
   "execution_count": 362,
   "metadata": {
    "collapsed": false
   },
   "outputs": [],
   "source": [
    "result = np.zeros((8,8))"
   ]
  },
  {
   "cell_type": "code",
   "execution_count": 365,
   "metadata": {
    "collapsed": false,
    "scrolled": true
   },
   "outputs": [
    {
     "name": "stdout",
     "output_type": "stream",
     "text": [
      "Status: Infeasible\n"
     ]
    }
   ],
   "source": [
    "                        \n",
    "# The problem data is written to an .lp file\n",
    "prob.writeLP(\"8Queens.lp\")\n",
    "\n",
    "# The problem is solved using PuLP's choice of Solver\n",
    "prob.solve()\n",
    "\n",
    "# The status of the solution is printed to the screen\n",
    "print \"Status:\", LpStatus[prob.status]\n",
    "\n",
    "# A file called sudokuout.txt is created/overwritten for writing to\n",
    "#sudokuout = open('8queens.txt','w')\n",
    "\n",
    "# The solution is written to the sudokuout.txt file \n",
    "for v in Vals:\n",
    "    for r in Rows:\n",
    "        for c in Cols:\n",
    "            if value(choices[v][r][c])==1:                             \n",
    "                result[int(r)-1,int(c)-1] = 1\n",
    "\n",
    "# The location of the solution is give to the user\n",
    "#print \"Solution Written to sudokuout.txt\""
   ]
  },
  {
   "cell_type": "code",
   "execution_count": 364,
   "metadata": {
    "collapsed": false
   },
   "outputs": [
    {
     "data": {
      "text/plain": [
       "array([[ 1.,  1.,  1.,  1.,  1.,  1.,  1.,  0.],\n",
       "       [ 1.,  0.,  1.,  1.,  1.,  1.,  1.,  1.],\n",
       "       [ 1.,  0.,  1.,  1.,  0.,  1.,  1.,  1.],\n",
       "       [ 1.,  1.,  1.,  0.,  1.,  1.,  1.,  1.],\n",
       "       [ 1.,  1.,  0.,  0.,  1.,  0.,  1.,  0.],\n",
       "       [ 1.,  1.,  1.,  0.,  0.,  0.,  1.,  0.],\n",
       "       [ 1.,  1.,  1.,  1.,  1.,  1.,  1.,  0.],\n",
       "       [ 0.,  1.,  1.,  1.,  0.,  1.,  1.,  0.]])"
      ]
     },
     "execution_count": 364,
     "metadata": {},
     "output_type": "execute_result"
    }
   ],
   "source": [
    "result"
   ]
  },
  {
   "cell_type": "code",
   "execution_count": null,
   "metadata": {
    "collapsed": true
   },
   "outputs": [],
   "source": []
  }
 ],
 "metadata": {
  "kernelspec": {
   "display_name": "Python 2",
   "language": "python",
   "name": "python2"
  },
  "language_info": {
   "codemirror_mode": {
    "name": "ipython",
    "version": 2
   },
   "file_extension": ".py",
   "mimetype": "text/x-python",
   "name": "python",
   "nbconvert_exporter": "python",
   "pygments_lexer": "ipython2",
   "version": "2.7.10"
  }
 },
 "nbformat": 4,
 "nbformat_minor": 0
}
