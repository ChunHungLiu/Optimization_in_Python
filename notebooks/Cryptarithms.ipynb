{
 "cells": [
  {
   "cell_type": "code",
   "execution_count": null,
   "metadata": {
    "collapsed": false
   },
   "outputs": [],
   "source": [
    "def solve2():\n",
    "    letters = ('s', 'e', 'n', 'd', 'm', 'o', 'r', 'y')\n",
    "    digits = range(10)\n",
    "    for perm in itertools.permutations(digits, len(letters)):\n",
    "        sol = dict(zip(letters, perm))\n",
    "        if sol['s'] == 0 or sol['m'] == 0:\n",
    "            continue\n",
    "        send = 1000 * sol['s'] + 100 * sol['e'] + 10 * sol['n'] + sol['d']\n",
    "        more = 1000 * sol['m'] + 100 * sol['o'] + 10 * sol['r'] + sol['e']\n",
    "        money = 10000 * sol['m'] + 1000 * sol['o'] + 100 * sol['n'] + 10 * sol['e'] + sol['y']\n",
    "        if send + more == money:\n",
    "            return send, more, money"
   ]
  }
 ],
 "metadata": {
  "kernelspec": {
   "display_name": "Python 2",
   "language": "python",
   "name": "python2"
  },
  "language_info": {
   "codemirror_mode": {
    "name": "ipython",
    "version": 2
   },
   "file_extension": ".py",
   "mimetype": "text/x-python",
   "name": "python",
   "nbconvert_exporter": "python",
   "pygments_lexer": "ipython2",
   "version": "2.7.11"
  }
 },
 "nbformat": 4,
 "nbformat_minor": 0
}
