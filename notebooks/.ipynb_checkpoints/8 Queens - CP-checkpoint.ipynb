{
 "cells": [
  {
   "cell_type": "code",
   "execution_count": 2,
   "metadata": {
    "collapsed": false
   },
   "outputs": [],
   "source": [
    "def under_attack(row, column, existing_queens):\n",
    "    if not len(existing_queens): return False\n",
    "    for queen in existing_queens:\n",
    "        if not len(queen):\n",
    "            continue\n",
    "        r,c = queen\n",
    "        if r == row: return True # Check row\n",
    "        if c == column: return True # Check column\n",
    "        if (column-c) == (row-r): return True # Check left diagonal\n",
    "        if (column-c) == -(row-r): return True # Check right diagonal\n",
    "    return False\n",
    "\n",
    "def iter_solve(n):\n",
    "    solutions = None\n",
    "    for row in range(1, n+1):\n",
    "        # for each row, check all valid column\n",
    "        solutions = check(solutions, row, n)\n",
    "    return solutions\n",
    "\n",
    "def check(solutions, row, n):\n",
    "    new_solutions = []\n",
    "    for column in range(1, n+1):\n",
    "        if not solutions or not len(solutions):\n",
    "            new_solutions.append([] + [(row, column)])\n",
    "        else:\n",
    "            for solution in solutions:\n",
    "                if not under_attack(row, column, solution):\n",
    "                    new_solutions.append(solution + [(row, column)])\n",
    "    return new_solutions"
   ]
  }
 ],
 "metadata": {
  "kernelspec": {
   "display_name": "Python 2",
   "language": "python",
   "name": "python2"
  },
  "language_info": {
   "codemirror_mode": {
    "name": "ipython",
    "version": 2
   },
   "file_extension": ".py",
   "mimetype": "text/x-python",
   "name": "python",
   "nbconvert_exporter": "python",
   "pygments_lexer": "ipython2",
   "version": "2.7.11"
  }
 },
 "nbformat": 4,
 "nbformat_minor": 0
}
