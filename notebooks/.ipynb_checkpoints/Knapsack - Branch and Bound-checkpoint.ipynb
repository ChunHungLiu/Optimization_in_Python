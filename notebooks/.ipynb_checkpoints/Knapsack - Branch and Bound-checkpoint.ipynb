{
 "cells": [
  {
   "cell_type": "code",
   "execution_count": null,
   "metadata": {
    "collapsed": false
   },
   "outputs": [],
   "source": [
    "data_item = ['map', 'compass', 'water', 'sandwich', 'glucose', 'tin', 'banana',\n",
    "             'apple', 'cheese', 'beer', 'suntan', 'camera', 'T', 'trousers',\n",
    "             'umbrella', 'w t', 'w o', 'note-case', 'sunglasses', 'towel',\n",
    "             'socks', 'book']\n",
    "data_weight = [9, 13, 153, 50, 15, 68, 27, 39, 23, 52, 11, 32, 24, 48, 73, 42,\n",
    "               43, 22, 7, 18, 4, 30]\n",
    "data_value = [150, 35, 200, 160, 60, 45, 60, 40, 30, 10, 70, 30, 15, 10, 40,\n",
    "              70, 75, 80, 20, 12, 50, 10]\n",
    "data_sorted = sorted(zip(data_item, data_weight, data_value),\n",
    "                     key=lambda (i, w, v): v//w, reverse=True)\n",
    "\n",
    "max_weight = 400\n",
    "\n",
    "\n",
    "class State(object):\n",
    "    def __init__(self, level, benefit, weight, token):\n",
    "        # token = list marking if a task is token. ex. [1, 0, 0] means\n",
    "        # item0 token, item1 non-token, item2 non-token\n",
    "        # available = list marking all tasks available, i.e. not explored yet\n",
    "        self.level = level\n",
    "        self.benefit = benefit\n",
    "        self.weight = weight\n",
    "        self.token = token\n",
    "        self.ub = State.upperbound(self.token[:self.level]+[1]*(len(data_sorted)-level))\n",
    "\n",
    "    @staticmethod\n",
    "    def upperbound(available):  # define upperbound using fractional knaksack\n",
    "        upperbound = 0  # initial upperbound\n",
    "        # accumulated weight used to stop the upperbound summation\n",
    "        remaining = max_weight\n",
    "        for avail, (_, wei, val) in zip(available, data_sorted):\n",
    "            wei2 =  wei * avail  # i could not find a better name\n",
    "            if wei2 <= remaining:\n",
    "                remaining -= wei2\n",
    "                upperbound += val * avail\n",
    "            else:\n",
    "                upperbound += val * remaining / wei2\n",
    "                break\n",
    "        return upperbound\n",
    "    \n",
    "    \n",
    "    def develop(self):\n",
    "        level = self.level + 1\n",
    "        _, weight, value = data_sorted[self.level]\n",
    "        left_weight = self.weight + weight\n",
    "        if left_weight <= max_weight:  # if not overweighted, give left child\n",
    "            left_benefit = self.benefit + value\n",
    "            left_token = self.token[:self.level]+[1]+self.token[level:]\n",
    "            left_child = State(level, left_benefit, left_weight, left_token)\n",
    "        else:\n",
    "            left_child = None\n",
    "        # anyway, give right child\n",
    "        right_child = State(level, self.benefit, self.weight, self.token)\n",
    "        return ([] if left_child is None else [left_child]) + [right_child]\n",
    "\n",
    "\n",
    "Root = State(0, 0, 0, [0] * len(data_sorted))  # start with nothing\n",
    "waiting_States = []  # list of States waiting to be explored\n",
    "current_state = Root\n",
    "while current_state.level < len(data_sorted):\n",
    "    waiting_States.extend(current_state.develop())\n",
    "    # sort the waiting list based on their upperbound\n",
    "    waiting_States.sort(key=lambda x: x.ub)\n",
    "    # explore the one with largest upperbound\n",
    "    current_state = waiting_States.pop()\n",
    "best_item = [item for tok, (item, _, _)\n",
    "             in zip(current_state.token, data_sorted) if tok == 1]\n",
    "\n",
    "print \"Total weight: \", current_state.weight\n",
    "print \"Total Value: \", current_state.benefit\n",
    "print \"Items:\", best_item"
   ]
  },
  {
   "cell_type": "code",
   "execution_count": null,
   "metadata": {
    "collapsed": true
   },
   "outputs": [],
   "source": []
  }
 ],
 "metadata": {
  "kernelspec": {
   "display_name": "Python 2",
   "language": "python",
   "name": "python2"
  },
  "language_info": {
   "codemirror_mode": {
    "name": "ipython",
    "version": 2
   },
   "file_extension": ".py",
   "mimetype": "text/x-python",
   "name": "python",
   "nbconvert_exporter": "python",
   "pygments_lexer": "ipython2",
   "version": "2.7.11"
  }
 },
 "nbformat": 4,
 "nbformat_minor": 0
}
